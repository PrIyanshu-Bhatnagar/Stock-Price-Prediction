{
 "cells": [
  {
   "cell_type": "markdown",
   "metadata": {},
   "source": [
    "# Code for Linear Regression"
   ]
  },
  {
   "cell_type": "markdown",
   "metadata": {},
   "source": [
    "## Importing Data"
   ]
  },
  {
   "cell_type": "code",
   "execution_count": 1,
   "metadata": {},
   "outputs": [
    {
     "name": "stdout",
     "output_type": "stream",
     "text": [
      "<_csv.reader object at 0x10ab04128>\n"
     ]
    }
   ],
   "source": [
    "import csv, pandas as pd, numpy as np\n",
    "csvfile = open('aapl.csv', newline='')\n",
    "workbook = csv.reader(csvfile, delimiter=' ', quotechar='|')\n",
    "print(workbook)"
   ]
  },
  {
   "cell_type": "code",
   "execution_count": 2,
   "metadata": {},
   "outputs": [
    {
     "name": "stdout",
     "output_type": "stream",
     "text": [
      "Invalid Data:  ['\\ufeffDate', 'Open', 'High', 'Low', 'Close', 'Volume']\n"
     ]
    }
   ],
   "source": [
    "dates = []\n",
    "opening_price = []\n",
    "high_price = []\n",
    "low_price = []\n",
    "closing_price = []\n",
    "volume = []\n",
    "for row in workbook:\n",
    "    try:\n",
    "        array_row = row[0].split(',')\n",
    "        try:\n",
    "            float(array_row[1])\n",
    "            float(array_row[2])\n",
    "            float(array_row[3])\n",
    "            float(array_row[4])\n",
    "            float(array_row[5])\n",
    "        except:\n",
    "            print('Invalid Data: ', array_row)\n",
    "            continue\n",
    "        dates.append(array_row[0])\n",
    "        opening_price.append(float(array_row[1]))\n",
    "        high_price.append(float(array_row[2]))\n",
    "        low_price.append(float(array_row[3]))\n",
    "        closing_price.append(float(array_row[4]))\n",
    "        volume.append(float(array_row[5]))\n",
    "    except: \n",
    "        print(row)\n",
    "\n",
    "features = {'opening_price':opening_price, 'high_price':high_price, 'low_price':low_price, 'volume':volume}\n",
    "m = len(dates)\n",
    "y = {'closing_price' : closing_price}"
   ]
  },
  {
   "cell_type": "markdown",
   "metadata": {},
   "source": [
    "## Get X,Y DataFrames "
   ]
  },
  {
   "cell_type": "code",
   "execution_count": null,
   "metadata": {},
   "outputs": [],
   "source": [
    "df_x = pd.DataFrame(features)\n",
    "print(df_x[:10])"
   ]
  },
  {
   "cell_type": "code",
   "execution_count": null,
   "metadata": {},
   "outputs": [],
   "source": [
    "df_y = pd.DataFrame(y)\n",
    "print(df_y[:10])"
   ]
  },
  {
   "cell_type": "code",
   "execution_count": null,
   "metadata": {},
   "outputs": [],
   "source": [
    "df_x.describe()"
   ]
  },
  {
   "cell_type": "code",
   "execution_count": null,
   "metadata": {
    "scrolled": true
   },
   "outputs": [],
   "source": [
    "df_y.describe()"
   ]
  },
  {
   "cell_type": "code",
   "execution_count": null,
   "metadata": {},
   "outputs": [],
   "source": [
    "from sklearn.linear_model import LinearRegression\n",
    "from sklearn.cross_validation import train_test_split"
   ]
  },
  {
   "cell_type": "markdown",
   "metadata": {},
   "source": [
    "## Split Training Data and Test Data"
   ]
  },
  {
   "cell_type": "code",
   "execution_count": null,
   "metadata": {},
   "outputs": [],
   "source": [
    "reg = LinearRegression()\n",
    "x_train, x_test, y_train, y_test = train_test_split(df_x, df_y, test_size=0.2,random_state=4)"
   ]
  },
  {
   "cell_type": "code",
   "execution_count": null,
   "metadata": {},
   "outputs": [],
   "source": [
    "reg.fit(x_train, y_train)"
   ]
  },
  {
   "cell_type": "markdown",
   "metadata": {},
   "source": [
    "## Coefficients and Linear Regression"
   ]
  },
  {
   "cell_type": "code",
   "execution_count": null,
   "metadata": {},
   "outputs": [],
   "source": [
    "reg.coef_"
   ]
  },
  {
   "cell_type": "code",
   "execution_count": null,
   "metadata": {},
   "outputs": [],
   "source": [
    "y_predicted = reg.predict(x_test)\n",
    "print(y_predicted[:5])"
   ]
  },
  {
   "cell_type": "markdown",
   "metadata": {},
   "source": [
    "## Plots"
   ]
  },
  {
   "cell_type": "code",
   "execution_count": null,
   "metadata": {
    "scrolled": true
   },
   "outputs": [],
   "source": [
    "import matplotlib.pyplot as plt\n",
    "from datetime import date\n",
    "new_dates = []\n",
    "for x in dates:\n",
    "    series = x.split('-')\n",
    "    if 'Jan' == series[1]:\n",
    "        series[1] = 1\n",
    "    elif 'Feb' == series[1]:\n",
    "        series[1] = 2\n",
    "    elif 'Mar' == series[1]:\n",
    "        series[1] = 3\n",
    "    elif 'Apr' == series[1]:\n",
    "        series[1] = 4\n",
    "    elif 'May' == series[1]:\n",
    "        series[1] = 5\n",
    "    elif 'Jun' == series[1]:\n",
    "        series[1] = 6\n",
    "    elif 'Jul' == series[1]:\n",
    "        series[1] = 7\n",
    "    elif 'Aug' == series[1]:\n",
    "        series[1] = 8\n",
    "    elif 'Sep' == series[1]:\n",
    "        series[1] = 9\n",
    "    elif 'Oct' == series[1]:\n",
    "        series[1] = 10\n",
    "    elif 'Nov' == series[1]:\n",
    "        series[1] = 11\n",
    "    elif 'Dec' == series[1]:\n",
    "        series[1] = 12\n",
    "    else:\n",
    "        print(series[1], 'Left')\n",
    "        continue\n",
    "    try:\n",
    "        new_dates.append(date(year=int(series[2]) + 2000, month=series[1],day=int(series[0])))\n",
    "    except:\n",
    "        print(series)\n",
    "    \n",
    "        \n",
    "plt.figure(figsize=(30,7))\n",
    "plt.plot(new_dates[:8:1],y_predicted[:8:1], color='blue', linewidth=1, label='Predicted')\n",
    "plt.plot(new_dates[:8:1], y_test['closing_price'][:8:1], color='red', linewidth=1, label='Actual')\n",
    "\n",
    "plt.title('Linear Regression Prediction')\n",
    "plt.ylabel('Stock Price')\n",
    "plt.xlabel('Dates')\n",
    "plt.grid(True)\n",
    "plt.show()"
   ]
  },
  {
   "cell_type": "markdown",
   "metadata": {},
   "source": [
    "## Actual Value"
   ]
  },
  {
   "cell_type": "code",
   "execution_count": null,
   "metadata": {},
   "outputs": [],
   "source": [
    "for x,y in zip(dates[:5:1], y_test['closing_price'][:5:1]):    \n",
    "    print('Date: ',x, 'Closing Price: ', y)"
   ]
  },
  {
   "cell_type": "markdown",
   "metadata": {},
   "source": [
    "## Predicted Value"
   ]
  },
  {
   "cell_type": "code",
   "execution_count": null,
   "metadata": {},
   "outputs": [],
   "source": [
    "for x,y in zip(dates[:5:-1], y_predicted[:5:1]):\n",
    "    print('Date: ',x, 'Closing Price: ', y[0])"
   ]
  },
  {
   "cell_type": "code",
   "execution_count": null,
   "metadata": {},
   "outputs": [],
   "source": [
    "new_y_test = []\n",
    "print(y_test)\n",
    "for y in y_test:\n",
    "    try:\n",
    "        new_y_test.append(float(y[0]))\n",
    "    except:\n",
    "        print(y[0])\n",
    "        continue\n",
    "\n",
    "print(type(new_y_test), new_y_test[:10])"
   ]
  },
  {
   "cell_type": "code",
   "execution_count": null,
   "metadata": {},
   "outputs": [],
   "source": [
    "new_y_predicted = []\n",
    "\n",
    "# print(y_predicted)\n",
    "for y in y_predicted:\n",
    "      new_y_predicted.append(float(y))\n",
    "print(type(new_y_predicted[0]))"
   ]
  },
  {
   "cell_type": "markdown",
   "metadata": {},
   "source": [
    "## Accuracy"
   ]
  },
  {
   "cell_type": "code",
   "execution_count": null,
   "metadata": {},
   "outputs": [],
   "source": [
    "errors = abs (new_y_predicted - y_test['closing_price'])\n",
    "print('Mean Absolute Error: ', round(np.mean(errors), 2), 'degrees.')\n"
   ]
  },
  {
   "cell_type": "code",
   "execution_count": null,
   "metadata": {},
   "outputs": [],
   "source": [
    "# Calculate Mean absolute percentage error\n",
    "mape = 100 * (errors/y_test['closing_price'])\n",
    "\n",
    "# Calculate & display Accuracy\n",
    "accuracy = 100 - np.mean(mape)\n",
    "print('Accuracy: ', round(accuracy, 2), '%.')"
   ]
  },
  {
   "cell_type": "markdown",
   "metadata": {},
   "source": [
    "# SVR"
   ]
  },
  {
   "cell_type": "code",
   "execution_count": 3,
   "metadata": {},
   "outputs": [
    {
     "name": "stdout",
     "output_type": "stream",
     "text": [
      "3990 3990 3990 3990\n",
      "3990\n",
      "10 10 10 10\n",
      "10\n"
     ]
    }
   ],
   "source": [
    "num_test = 10\n",
    "data_train = {}\n",
    "data_test = {}\n",
    "\n",
    "data_train['high_price'] = features['high_price'][:-num_test:]\n",
    "data_train['low_price'] = features['low_price'][:-num_test: ]\n",
    "data_train['volume'] = features['volume'][:-num_test: ]\n",
    "data_train['closing_price'] = y['closing_price'][:-num_test: ]\n",
    "\n",
    "print(len(data_train['high_price']),len(data_train['low_price']), len(data_train['volume']), len(data_train['closing_price']))\n",
    "\n",
    "x_train = pd.DataFrame(data_train)\n",
    "\n",
    "y_train = y['closing_price'][:-num_test]\n",
    "\n",
    "print(len(y_train))\n",
    "\n",
    "\n",
    "data_test['high_price'] = features['high_price'][-num_test::]\n",
    "data_test['low_price'] = features['low_price'][-num_test::]\n",
    "data_test['volume'] = features['volume'][-num_test::]\n",
    "data_test['closing_price'] = y['closing_price'][-num_test::]\n",
    "\n",
    "x_test = pd.DataFrame(data_test)\n",
    "\n",
    "y_test = y['closing_price'][-num_test::]\n",
    "\n",
    "print(len(data_test['high_price']),len(data_test['low_price']), len(data_test['volume']), len(data_test['closing_price']))\n",
    "\n",
    "print(len(y_test))\n",
    "\n",
    "#print('Train: ', len(x_train[0]), len(y_train))\n",
    "# print('Test: ', len(x_test[0]), len(y_test))"
   ]
  },
  {
   "cell_type": "code",
   "execution_count": null,
   "metadata": {},
   "outputs": [],
   "source": [
    "from sklearn.svm import SVR\n",
    "clf = SVR(C=0.1, epsilon=0.02)\n",
    "clf.fit(x_train, y_train) \n",
    "predictions = clf.predict(x_test)\n",
    "print(predictions, y_test)"
   ]
  },
  {
   "cell_type": "code",
   "execution_count": null,
   "metadata": {},
   "outputs": [],
   "source": []
  },
  {
   "cell_type": "code",
   "execution_count": null,
   "metadata": {},
   "outputs": [],
   "source": []
  },
  {
   "cell_type": "code",
   "execution_count": null,
   "metadata": {},
   "outputs": [],
   "source": []
  },
  {
   "cell_type": "code",
   "execution_count": null,
   "metadata": {},
   "outputs": [],
   "source": []
  },
  {
   "cell_type": "code",
   "execution_count": null,
   "metadata": {},
   "outputs": [],
   "source": []
  }
 ],
 "metadata": {
  "kernelspec": {
   "display_name": "Python 3",
   "language": "python",
   "name": "python3"
  },
  "language_info": {
   "codemirror_mode": {
    "name": "ipython",
    "version": 3
   },
   "file_extension": ".py",
   "mimetype": "text/x-python",
   "name": "python",
   "nbconvert_exporter": "python",
   "pygments_lexer": "ipython3",
   "version": "3.6.5"
  }
 },
 "nbformat": 4,
 "nbformat_minor": 2
}
