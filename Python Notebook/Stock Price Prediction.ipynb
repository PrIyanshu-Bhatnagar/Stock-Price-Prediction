{
 "cells": [
  {
   "cell_type": "markdown",
   "metadata": {},
   "source": [
    "# Code for Linear Regression"
   ]
  },
  {
   "cell_type": "markdown",
   "metadata": {},
   "source": [
    "## Importing Data"
   ]
  },
  {
   "cell_type": "code",
   "execution_count": 21,
   "metadata": {},
   "outputs": [
    {
     "name": "stdout",
     "output_type": "stream",
     "text": [
      "<_csv.reader object at 0x1110ed3c8>\n"
     ]
    }
   ],
   "source": [
    "import csv, pandas as pd, numpy as np\n",
    "csvfile = open('aapl.csv', newline='')\n",
    "workbook = csv.reader(csvfile, delimiter=' ', quotechar='|')\n",
    "print(workbook)"
   ]
  },
  {
   "cell_type": "code",
   "execution_count": 22,
   "metadata": {},
   "outputs": [
    {
     "name": "stdout",
     "output_type": "stream",
     "text": [
      "Invalid Data:  ['\\ufeffDate', 'Open', 'High', 'Low', 'Close', 'Volume']\n"
     ]
    }
   ],
   "source": [
    "dates = []\n",
    "opening_price = []\n",
    "high_price = []\n",
    "low_price = []\n",
    "closing_price = []\n",
    "volume = []\n",
    "for row in workbook:\n",
    "    try:\n",
    "        array_row = row[0].split(',')\n",
    "        try:\n",
    "            float(array_row[1])\n",
    "            float(array_row[2])\n",
    "            float(array_row[3])\n",
    "            float(array_row[4])\n",
    "            float(array_row[5])\n",
    "        except:\n",
    "            print('Invalid Data: ', array_row)\n",
    "            continue\n",
    "        dates.append(array_row[0])\n",
    "        opening_price.append(float(array_row[1]))\n",
    "        high_price.append(float(array_row[2]))\n",
    "        low_price.append(float(array_row[3]))\n",
    "        closing_price.append(float(array_row[4]))\n",
    "        volume.append(float(array_row[5]))\n",
    "    except: \n",
    "        print(row)\n",
    "\n",
    "features = {'opening_price':opening_price, 'high_price':high_price, 'low_price':low_price, 'volume':volume}\n",
    "m = len(dates)\n",
    "y = {'closing_price' : closing_price}"
   ]
  },
  {
   "cell_type": "markdown",
   "metadata": {},
   "source": [
    "## Get X,Y DataFrames "
   ]
  },
  {
   "cell_type": "code",
   "execution_count": 23,
   "metadata": {},
   "outputs": [
    {
     "name": "stdout",
     "output_type": "stream",
     "text": [
      "   high_price  low_price  opening_price      volume\n",
      "0      167.54     162.88         163.04  40644933.0\n",
      "1      164.75     161.65         161.95  32549163.0\n",
      "2      163.89     157.51         158.50  60819539.0\n",
      "3      157.89     150.24         157.07  70672608.0\n",
      "4      161.00     155.03         160.29  54390516.0\n",
      "5      163.40     159.07         163.08  51608580.0\n",
      "6      163.72     154.00         154.83  68243838.0\n",
      "7      163.88     156.00         159.10  72738522.0\n",
      "8      166.80     160.10         166.00  86593825.0\n",
      "9      168.62     166.76         167.16  47230787.0\n"
     ]
    }
   ],
   "source": [
    "df_x = pd.DataFrame(features)\n",
    "print(df_x[:10])"
   ]
  },
  {
   "cell_type": "code",
   "execution_count": 24,
   "metadata": {},
   "outputs": [
    {
     "name": "stdout",
     "output_type": "stream",
     "text": [
      "   closing_price\n",
      "0         167.37\n",
      "1         164.34\n",
      "2         162.71\n",
      "3         156.41\n",
      "4         155.15\n",
      "5         159.54\n",
      "6         163.03\n",
      "7         156.49\n",
      "8         160.50\n",
      "9         167.78\n"
     ]
    }
   ],
   "source": [
    "df_y = pd.DataFrame(y)\n",
    "print(df_y[:10])"
   ]
  },
  {
   "cell_type": "code",
   "execution_count": 25,
   "metadata": {},
   "outputs": [
    {
     "data": {
      "text/html": [
       "<div>\n",
       "<style scoped>\n",
       "    .dataframe tbody tr th:only-of-type {\n",
       "        vertical-align: middle;\n",
       "    }\n",
       "\n",
       "    .dataframe tbody tr th {\n",
       "        vertical-align: top;\n",
       "    }\n",
       "\n",
       "    .dataframe thead th {\n",
       "        text-align: right;\n",
       "    }\n",
       "</style>\n",
       "<table border=\"1\" class=\"dataframe\">\n",
       "  <thead>\n",
       "    <tr style=\"text-align: right;\">\n",
       "      <th></th>\n",
       "      <th>high_price</th>\n",
       "      <th>low_price</th>\n",
       "      <th>opening_price</th>\n",
       "      <th>volume</th>\n",
       "    </tr>\n",
       "  </thead>\n",
       "  <tbody>\n",
       "    <tr>\n",
       "      <th>count</th>\n",
       "      <td>4000.000000</td>\n",
       "      <td>4000.000000</td>\n",
       "      <td>4000.000000</td>\n",
       "      <td>4.000000e+03</td>\n",
       "    </tr>\n",
       "    <tr>\n",
       "      <th>mean</th>\n",
       "      <td>51.318470</td>\n",
       "      <td>50.345553</td>\n",
       "      <td>50.852702</td>\n",
       "      <td>1.261720e+08</td>\n",
       "    </tr>\n",
       "    <tr>\n",
       "      <th>std</th>\n",
       "      <td>48.254563</td>\n",
       "      <td>47.536884</td>\n",
       "      <td>47.903902</td>\n",
       "      <td>1.000376e+08</td>\n",
       "    </tr>\n",
       "    <tr>\n",
       "      <th>min</th>\n",
       "      <td>0.940000</td>\n",
       "      <td>0.910000</td>\n",
       "      <td>0.930000</td>\n",
       "      <td>9.515800e+06</td>\n",
       "    </tr>\n",
       "    <tr>\n",
       "      <th>25%</th>\n",
       "      <td>9.557500</td>\n",
       "      <td>9.227500</td>\n",
       "      <td>9.397500</td>\n",
       "      <td>5.484920e+07</td>\n",
       "    </tr>\n",
       "    <tr>\n",
       "      <th>50%</th>\n",
       "      <td>31.415000</td>\n",
       "      <td>30.560000</td>\n",
       "      <td>30.950000</td>\n",
       "      <td>9.834802e+07</td>\n",
       "    </tr>\n",
       "    <tr>\n",
       "      <th>75%</th>\n",
       "      <td>89.247500</td>\n",
       "      <td>87.375000</td>\n",
       "      <td>88.412500</td>\n",
       "      <td>1.684245e+08</td>\n",
       "    </tr>\n",
       "    <tr>\n",
       "      <th>max</th>\n",
       "      <td>180.100000</td>\n",
       "      <td>178.250000</td>\n",
       "      <td>179.370000</td>\n",
       "      <td>8.432640e+08</td>\n",
       "    </tr>\n",
       "  </tbody>\n",
       "</table>\n",
       "</div>"
      ],
      "text/plain": [
       "        high_price    low_price  opening_price        volume\n",
       "count  4000.000000  4000.000000    4000.000000  4.000000e+03\n",
       "mean     51.318470    50.345553      50.852702  1.261720e+08\n",
       "std      48.254563    47.536884      47.903902  1.000376e+08\n",
       "min       0.940000     0.910000       0.930000  9.515800e+06\n",
       "25%       9.557500     9.227500       9.397500  5.484920e+07\n",
       "50%      31.415000    30.560000      30.950000  9.834802e+07\n",
       "75%      89.247500    87.375000      88.412500  1.684245e+08\n",
       "max     180.100000   178.250000     179.370000  8.432640e+08"
      ]
     },
     "execution_count": 25,
     "metadata": {},
     "output_type": "execute_result"
    }
   ],
   "source": [
    "df_x.describe()"
   ]
  },
  {
   "cell_type": "code",
   "execution_count": 26,
   "metadata": {
    "scrolled": true
   },
   "outputs": [
    {
     "data": {
      "text/html": [
       "<div>\n",
       "<style scoped>\n",
       "    .dataframe tbody tr th:only-of-type {\n",
       "        vertical-align: middle;\n",
       "    }\n",
       "\n",
       "    .dataframe tbody tr th {\n",
       "        vertical-align: top;\n",
       "    }\n",
       "\n",
       "    .dataframe thead th {\n",
       "        text-align: right;\n",
       "    }\n",
       "</style>\n",
       "<table border=\"1\" class=\"dataframe\">\n",
       "  <thead>\n",
       "    <tr style=\"text-align: right;\">\n",
       "      <th></th>\n",
       "      <th>closing_price</th>\n",
       "    </tr>\n",
       "  </thead>\n",
       "  <tbody>\n",
       "    <tr>\n",
       "      <th>count</th>\n",
       "      <td>4000.000000</td>\n",
       "    </tr>\n",
       "    <tr>\n",
       "      <th>mean</th>\n",
       "      <td>50.846305</td>\n",
       "    </tr>\n",
       "    <tr>\n",
       "      <th>std</th>\n",
       "      <td>47.909996</td>\n",
       "    </tr>\n",
       "    <tr>\n",
       "      <th>min</th>\n",
       "      <td>0.940000</td>\n",
       "    </tr>\n",
       "    <tr>\n",
       "      <th>25%</th>\n",
       "      <td>9.377500</td>\n",
       "    </tr>\n",
       "    <tr>\n",
       "      <th>50%</th>\n",
       "      <td>31.290000</td>\n",
       "    </tr>\n",
       "    <tr>\n",
       "      <th>75%</th>\n",
       "      <td>88.422500</td>\n",
       "    </tr>\n",
       "    <tr>\n",
       "      <th>max</th>\n",
       "      <td>179.260000</td>\n",
       "    </tr>\n",
       "  </tbody>\n",
       "</table>\n",
       "</div>"
      ],
      "text/plain": [
       "       closing_price\n",
       "count    4000.000000\n",
       "mean       50.846305\n",
       "std        47.909996\n",
       "min         0.940000\n",
       "25%         9.377500\n",
       "50%        31.290000\n",
       "75%        88.422500\n",
       "max       179.260000"
      ]
     },
     "execution_count": 26,
     "metadata": {},
     "output_type": "execute_result"
    }
   ],
   "source": [
    "df_y.describe()"
   ]
  },
  {
   "cell_type": "code",
   "execution_count": 27,
   "metadata": {},
   "outputs": [],
   "source": [
    "from sklearn.linear_model import LinearRegression\n",
    "from sklearn.cross_validation import train_test_split"
   ]
  },
  {
   "cell_type": "markdown",
   "metadata": {},
   "source": [
    "## Split Training Data and Test Data"
   ]
  },
  {
   "cell_type": "code",
   "execution_count": 28,
   "metadata": {},
   "outputs": [],
   "source": [
    "reg = LinearRegression()\n",
    "x_train, x_test, y_train, y_test = train_test_split(df_x, df_y, test_size=0.2,random_state=4)"
   ]
  },
  {
   "cell_type": "code",
   "execution_count": 29,
   "metadata": {},
   "outputs": [
    {
     "data": {
      "text/plain": [
       "LinearRegression(copy_X=True, fit_intercept=True, n_jobs=1, normalize=False)"
      ]
     },
     "execution_count": 29,
     "metadata": {},
     "output_type": "execute_result"
    }
   ],
   "source": [
    "reg.fit(x_train, y_train)"
   ]
  },
  {
   "cell_type": "markdown",
   "metadata": {},
   "source": [
    "## Coefficients and Linear Regression"
   ]
  },
  {
   "cell_type": "code",
   "execution_count": 30,
   "metadata": {},
   "outputs": [
    {
     "data": {
      "text/plain": [
       "array([[ 8.19691377e-01,  7.76935402e-01, -5.96481472e-01,\n",
       "         1.18056278e-10]])"
      ]
     },
     "execution_count": 30,
     "metadata": {},
     "output_type": "execute_result"
    }
   ],
   "source": [
    "reg.coef_"
   ]
  },
  {
   "cell_type": "code",
   "execution_count": 11,
   "metadata": {},
   "outputs": [
    {
     "name": "stdout",
     "output_type": "stream",
     "text": [
      "[[  6.34545474]\n",
      " [ 27.1436515 ]\n",
      " [174.15497626]\n",
      " [ 37.57302691]\n",
      " [102.72332804]]\n"
     ]
    }
   ],
   "source": [
    "y_predicted = reg.predict(x_test)\n",
    "print(y_predicted[:5])"
   ]
  },
  {
   "cell_type": "markdown",
   "metadata": {},
   "source": [
    "## Plots"
   ]
  },
  {
   "cell_type": "code",
   "execution_count": 32,
   "metadata": {
    "scrolled": true
   },
   "outputs": [
    {
     "data": {
      "image/png": "[encoded data removed]",
      "text/plain": [
       "<matplotlib.figure.Figure at 0x1115e6b38>"
      ]
     },
     "metadata": {},
     "output_type": "display_data"
    }
   ],
   "source": [
    "import matplotlib.pyplot as plt\n",
    "from datetime import date\n",
    "new_dates = []\n",
    "for x in dates:\n",
    "    series = x.split('-')\n",
    "    if 'Jan' == series[1]:\n",
    "        series[1] = 1\n",
    "    elif 'Feb' == series[1]:\n",
    "        series[1] = 2\n",
    "    elif 'Mar' == series[1]:\n",
    "        series[1] = 3\n",
    "    elif 'Apr' == series[1]:\n",
    "        series[1] = 4\n",
    "    elif 'May' == series[1]:\n",
    "        series[1] = 5\n",
    "    elif 'Jun' == series[1]:\n",
    "        series[1] = 6\n",
    "    elif 'Jul' == series[1]:\n",
    "        series[1] = 7\n",
    "    elif 'Aug' == series[1]:\n",
    "        series[1] = 8\n",
    "    elif 'Sep' == series[1]:\n",
    "        series[1] = 9\n",
    "    elif 'Oct' == series[1]:\n",
    "        series[1] = 10\n",
    "    elif 'Nov' == series[1]:\n",
    "        series[1] = 11\n",
    "    elif 'Dec' == series[1]:\n",
    "        series[1] = 12\n",
    "    else:\n",
    "        print(series[1], 'Left')\n",
    "        continue\n",
    "    try:\n",
    "        new_dates.append(date(year=int(series[2]) + 2000, month=series[1],day=int(series[0])))\n",
    "    except:\n",
    "        print(series)\n",
    "    \n",
    "        \n",
    "plt.figure(figsize=(30,7))\n",
    "#plt.plot(new_dates[:80:1],y_predicted[:80:1], color='blue', linewidth=1, label='Predicted')\n",
    "plt.plot(new_dates[:80:1], y_test['closing_price'][:80:1], color='red', linewidth=1, label='Actual')\n",
    "\n",
    "plt.title('Linear Regression Prediction')\n",
    "plt.ylabel('Stock Price')\n",
    "plt.xlabel('Dates')\n",
    "plt.grid(True)\n",
    "plt.show()"
   ]
  },
  {
   "cell_type": "markdown",
   "metadata": {},
   "source": [
    "## Actual Value"
   ]
  },
  {
   "cell_type": "code",
   "execution_count": 18,
   "metadata": {},
   "outputs": [
    {
     "name": "stdout",
     "output_type": "stream",
     "text": [
      "Date:  14-Feb-18 Closing Price:  6.36\n",
      "Date:  13-Feb-18 Closing Price:  27.4\n",
      "Date:  12-Feb-18 Closing Price:  174.22\n",
      "Date:  9-Feb-18 Closing Price:  37.56\n",
      "Date:  8-Feb-18 Closing Price:  103.01\n"
     ]
    }
   ],
   "source": [
    "for x,y in zip(dates[:5:1], y_test['closing_price'][:5:1]):    \n",
    "    print('Date: ',x, 'Closing Price: ', y)"
   ]
  },
  {
   "cell_type": "markdown",
   "metadata": {},
   "source": [
    "## Predicted Value"
   ]
  },
  {
   "cell_type": "code",
   "execution_count": 19,
   "metadata": {},
   "outputs": [
    {
     "name": "stdout",
     "output_type": "stream",
     "text": [
      "Date:  27-Mar-02 Closing Price:  6.345454738865259\n",
      "Date:  28-Mar-02 Closing Price:  27.143651504085295\n",
      "Date:  1-Apr-02 Closing Price:  174.15497626431937\n",
      "Date:  2-Apr-02 Closing Price:  37.57302691138312\n",
      "Date:  3-Apr-02 Closing Price:  102.7233280405992\n"
     ]
    }
   ],
   "source": [
    "for x,y in zip(dates[:5:-1], y_predicted[:5:1]):\n",
    "    print('Date: ',x, 'Closing Price: ', y[0])"
   ]
  },
  {
   "cell_type": "code",
   "execution_count": null,
   "metadata": {},
   "outputs": [],
   "source": []
  }
 ],
 "metadata": {
  "kernelspec": {
   "display_name": "Python 3",
   "language": "python",
   "name": "python3"
  },
  "language_info": {
   "codemirror_mode": {
    "name": "ipython",
    "version": 3
   },
   "file_extension": ".py",
   "mimetype": "text/x-python",
   "name": "python",
   "nbconvert_exporter": "python",
   "pygments_lexer": "ipython3",
   "version": "3.6.4"
  }
 },
 "nbformat": 4,
 "nbformat_minor": 2
}
